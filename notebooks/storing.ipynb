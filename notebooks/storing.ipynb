{
 "cells": [
  {
   "cell_type": "code",
   "execution_count": 1,
   "metadata": {
    "collapsed": true
   },
   "outputs": [],
   "source": [
    "from utils.connection import Connection"
   ]
  },
  {
   "cell_type": "code",
   "execution_count": 2,
   "outputs": [
    {
     "name": "stdout",
     "output_type": "stream",
     "text": [
      "Connected to server : SUCCESS\n"
     ]
    }
   ],
   "source": [
    "radient_prod = Connection()"
   ],
   "metadata": {
    "collapsed": false
   }
  },
  {
   "cell_type": "code",
   "execution_count": 3,
   "outputs": [
    {
     "ename": "FileNotFoundError",
     "evalue": "[Errno 2] No such file or directory: 'models/formd_funds.sql'",
     "output_type": "error",
     "traceback": [
      "\u001B[1;31m---------------------------------------------------------------------------\u001B[0m",
      "\u001B[1;31mFileNotFoundError\u001B[0m                         Traceback (most recent call last)",
      "Cell \u001B[1;32mIn[3], line 1\u001B[0m\n\u001B[1;32m----> 1\u001B[0m formd_funds \u001B[38;5;241m=\u001B[39m \u001B[43mradient_prod\u001B[49m\u001B[38;5;241;43m.\u001B[39;49m\u001B[43msql_to_frame\u001B[49m\u001B[43m(\u001B[49m\u001B[38;5;124;43m'\u001B[39;49m\u001B[38;5;124;43mmodels/formd_funds.sql\u001B[39;49m\u001B[38;5;124;43m'\u001B[39;49m\u001B[43m)\u001B[49m\n\u001B[0;32m      2\u001B[0m formd_funds\u001B[38;5;241m.\u001B[39mto_pickle(\u001B[38;5;124m'\u001B[39m\u001B[38;5;124mstorage/formd_funds.pkl\u001B[39m\u001B[38;5;124m'\u001B[39m)\n",
      "File \u001B[1;32m~\\Forest\\tejaDataClean\\notebooks\\utils\\connection.py:25\u001B[0m, in \u001B[0;36mConnection.sql_to_frame\u001B[1;34m(self, filename)\u001B[0m\n\u001B[0;32m     23\u001B[0m \u001B[38;5;28;01mdef\u001B[39;00m \u001B[38;5;21msql_to_frame\u001B[39m(\u001B[38;5;28mself\u001B[39m, filename):\n\u001B[1;32m---> 25\u001B[0m     \u001B[38;5;28;01mwith\u001B[39;00m \u001B[38;5;28;43mopen\u001B[39;49m\u001B[43m(\u001B[49m\u001B[43mfilename\u001B[49m\u001B[43m,\u001B[49m\u001B[43m \u001B[49m\u001B[38;5;124;43m'\u001B[39;49m\u001B[38;5;124;43mr\u001B[39;49m\u001B[38;5;124;43m'\u001B[39;49m\u001B[43m)\u001B[49m \u001B[38;5;28;01mas\u001B[39;00m file:\n\u001B[0;32m     26\u001B[0m         query \u001B[38;5;241m=\u001B[39m file\u001B[38;5;241m.\u001B[39mread()\n\u001B[0;32m     28\u001B[0m     dataframe \u001B[38;5;241m=\u001B[39m pd\u001B[38;5;241m.\u001B[39mread_sql(text(query), \u001B[38;5;28mself\u001B[39m\u001B[38;5;241m.\u001B[39mconnection)\n",
      "\u001B[1;31mFileNotFoundError\u001B[0m: [Errno 2] No such file or directory: 'models/formd_funds.sql'"
     ]
    }
   ],
   "source": [
    "formd_funds = radient_prod.sql_to_frame('../models/formd_funds.sql')\n",
    "formd_funds.to_pickle('../storage/formd_funds.pkl')"
   ],
   "metadata": {
    "collapsed": false
   }
  },
  {
   "cell_type": "code",
   "execution_count": null,
   "outputs": [],
   "source": [
    "formadv_funds = radient_prod.sql_to_frame('../models/formadv_funds.sql')\n",
    "formadv_funds.to_pickle('../storage/formadv_funds.pkl')"
   ],
   "metadata": {
    "collapsed": false
   }
  },
  {
   "cell_type": "code",
   "execution_count": null,
   "outputs": [],
   "source": [
    "related_partners = radient_prod.sql_to_frame('../models/related_partners.sql')\n",
    "related_partners.to_pickle('../storage/related_partners.pkl')"
   ],
   "metadata": {
    "collapsed": false
   }
  },
  {
   "cell_type": "code",
   "execution_count": null,
   "outputs": [],
   "source": [
    "direct_owners = radient_prod.sql_to_frame('../models/direct_owners.sql')\n",
    "direct_owners.to_pickle('../storage/direct_owners.pkl')"
   ],
   "metadata": {
    "collapsed": false
   }
  },
  {
   "cell_type": "code",
   "execution_count": null,
   "outputs": [],
   "source": [
    "radient_prod.close()"
   ],
   "metadata": {
    "collapsed": false
   }
  }
 ],
 "metadata": {
  "kernelspec": {
   "display_name": "Python 3",
   "language": "python",
   "name": "python3"
  },
  "language_info": {
   "codemirror_mode": {
    "name": "ipython",
    "version": 2
   },
   "file_extension": ".py",
   "mimetype": "text/x-python",
   "name": "python",
   "nbconvert_exporter": "python",
   "pygments_lexer": "ipython2",
   "version": "2.7.6"
  }
 },
 "nbformat": 4,
 "nbformat_minor": 0
}
