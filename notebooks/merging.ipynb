{
 "cells": [
  {
   "cell_type": "code",
   "execution_count": 137,
   "metadata": {
    "collapsed": true
   },
   "outputs": [],
   "source": [
    "import pandas as pd\n",
    "\n",
    "from mapping.utils.processing import preprocess"
   ]
  },
  {
   "cell_type": "code",
   "execution_count": 138,
   "outputs": [],
   "source": [
    "matches_firms = pd.read_csv('../data/matches_firms.csv')\n",
    "matches_funds = pd.read_csv('../data/matches_funds.csv')\n",
    "matches_owners = pd.read_csv('../data/matches_owners.csv')"
   ],
   "metadata": {
    "collapsed": false
   }
  },
  {
   "cell_type": "code",
   "execution_count": 139,
   "outputs": [],
   "source": [
    "matches_firms_funds = pd.merge(matches_firms, matches_funds, how='inner')"
   ],
   "metadata": {
    "collapsed": false
   }
  },
  {
   "cell_type": "code",
   "execution_count": 140,
   "outputs": [],
   "source": [
    "# Formatting Data Frame\n",
    "filter_columns = [\n",
    "    'form_d_fund_id', 'cik_no_fund', 'fund',\n",
    "    'form_adv_firm_id', 'crd_no_firm', 'matched_firm', 'firm_confidence',\n",
    "    'form_adv_fund_id', 'crd_no_fund', 'matched_fund', 'fund_confidence',\n",
    "]\n",
    "matches_firms_funds = matches_firms_funds[filter_columns]"
   ],
   "metadata": {
    "collapsed": false
   }
  },
  {
   "cell_type": "code",
   "execution_count": 141,
   "outputs": [
    {
     "data": {
      "text/plain": "   form_d_fund_id  cik_no_fund                                    fund  \\\n0           54568      1694312     Ajo Emerging Markets Small Cap Fund   \n1           60070      1685357             Libra Fossil Fuel Free Fund   \n2           38363      1679614  Fiam Global Low Volatility Equity Fund   \n3           43377      1753457                   Parian Global Us Fund   \n4           24565      1450552                 Davi Luxury Brand Group   \n\n   form_adv_firm_id  crd_no_firm                           matched_firm  \\\n0               NaN       309921  Capitalworks Emerging Markets Advisor   \n1               NaN       281914                                   Fund   \n2               NaN       137649                 Global Equity Advisors   \n3           20874.0       297279               Parian Global Management   \n4          142265.0       306533                         Daventry Group   \n\n   firm_confidence  form_adv_fund_id  crd_no_fund  \\\n0         0.985133             602.0       105545   \n1         0.927080           11352.0       294197   \n2         0.891444           10035.0       133196   \n3         0.819455           20874.0       297279   \n4         0.983191            3170.0       110885   \n\n                             matched_fund  fund_confidence  \n0     Ajo Emerging Markets Small Cap Fund         0.000000  \n1             Libra Fossil Fuel Free Fund         0.000000  \n2  Fiam Global Low Volatility Equity Fund         0.000000  \n3                Parian Global Us Fund Ii         0.263488  \n4        Capital Group Euro Bond Fund Lux         0.974050  ",
      "text/html": "<div>\n<style scoped>\n    .dataframe tbody tr th:only-of-type {\n        vertical-align: middle;\n    }\n\n    .dataframe tbody tr th {\n        vertical-align: top;\n    }\n\n    .dataframe thead th {\n        text-align: right;\n    }\n</style>\n<table border=\"1\" class=\"dataframe\">\n  <thead>\n    <tr style=\"text-align: right;\">\n      <th></th>\n      <th>form_d_fund_id</th>\n      <th>cik_no_fund</th>\n      <th>fund</th>\n      <th>form_adv_firm_id</th>\n      <th>crd_no_firm</th>\n      <th>matched_firm</th>\n      <th>firm_confidence</th>\n      <th>form_adv_fund_id</th>\n      <th>crd_no_fund</th>\n      <th>matched_fund</th>\n      <th>fund_confidence</th>\n    </tr>\n  </thead>\n  <tbody>\n    <tr>\n      <th>0</th>\n      <td>54568</td>\n      <td>1694312</td>\n      <td>Ajo Emerging Markets Small Cap Fund</td>\n      <td>NaN</td>\n      <td>309921</td>\n      <td>Capitalworks Emerging Markets Advisor</td>\n      <td>0.985133</td>\n      <td>602.0</td>\n      <td>105545</td>\n      <td>Ajo Emerging Markets Small Cap Fund</td>\n      <td>0.000000</td>\n    </tr>\n    <tr>\n      <th>1</th>\n      <td>60070</td>\n      <td>1685357</td>\n      <td>Libra Fossil Fuel Free Fund</td>\n      <td>NaN</td>\n      <td>281914</td>\n      <td>Fund</td>\n      <td>0.927080</td>\n      <td>11352.0</td>\n      <td>294197</td>\n      <td>Libra Fossil Fuel Free Fund</td>\n      <td>0.000000</td>\n    </tr>\n    <tr>\n      <th>2</th>\n      <td>38363</td>\n      <td>1679614</td>\n      <td>Fiam Global Low Volatility Equity Fund</td>\n      <td>NaN</td>\n      <td>137649</td>\n      <td>Global Equity Advisors</td>\n      <td>0.891444</td>\n      <td>10035.0</td>\n      <td>133196</td>\n      <td>Fiam Global Low Volatility Equity Fund</td>\n      <td>0.000000</td>\n    </tr>\n    <tr>\n      <th>3</th>\n      <td>43377</td>\n      <td>1753457</td>\n      <td>Parian Global Us Fund</td>\n      <td>20874.0</td>\n      <td>297279</td>\n      <td>Parian Global Management</td>\n      <td>0.819455</td>\n      <td>20874.0</td>\n      <td>297279</td>\n      <td>Parian Global Us Fund Ii</td>\n      <td>0.263488</td>\n    </tr>\n    <tr>\n      <th>4</th>\n      <td>24565</td>\n      <td>1450552</td>\n      <td>Davi Luxury Brand Group</td>\n      <td>142265.0</td>\n      <td>306533</td>\n      <td>Daventry Group</td>\n      <td>0.983191</td>\n      <td>3170.0</td>\n      <td>110885</td>\n      <td>Capital Group Euro Bond Fund Lux</td>\n      <td>0.974050</td>\n    </tr>\n  </tbody>\n</table>\n</div>"
     },
     "execution_count": 141,
     "metadata": {},
     "output_type": "execute_result"
    }
   ],
   "source": [
    "matches_firms_funds.head()"
   ],
   "metadata": {
    "collapsed": false
   }
  },
  {
   "cell_type": "code",
   "execution_count": 141,
   "outputs": [],
   "source": [],
   "metadata": {
    "collapsed": false
   }
  },
  {
   "cell_type": "markdown",
   "source": [
    "Testing"
   ],
   "metadata": {
    "collapsed": false
   }
  },
  {
   "cell_type": "code",
   "execution_count": 142,
   "outputs": [],
   "source": [
    "match_df = matches_firms_funds"
   ],
   "metadata": {
    "collapsed": false
   }
  },
  {
   "cell_type": "code",
   "execution_count": 143,
   "outputs": [],
   "source": [
    "cols = ['cik_no_fund', 'crd_no_firm', 'crd_no_fund']\n",
    "\n",
    "match_df = match_df[cols]"
   ],
   "metadata": {
    "collapsed": false
   }
  },
  {
   "cell_type": "code",
   "execution_count": 144,
   "outputs": [],
   "source": [
    "from fuzzywuzzy import fuzz\n",
    "\n",
    "def get_match_df(data_a, data_b):\n",
    "\n",
    "    left_values = list(set(data_a.related_partners))\n",
    "    right_values = data_b.direct_owners.to_list()\n",
    "\n",
    "    matches = []\n",
    "\n",
    "    for partner in left_values:\n",
    "        best_owner, best_raio = None, 0\n",
    "        for owner in right_values:\n",
    "            ratio = fuzz.SequenceMatcher(None, partner, owner).ratio()\n",
    "            if ratio > best_raio:\n",
    "                best_owner = owner\n",
    "                best_raio = ratio\n",
    "        matches.append((partner, best_owner, best_raio))\n",
    "\n",
    "    return pd.DataFrame(matches, columns=['related_partner', 'direct_owners_owner', 'owners_ratio'])"
   ],
   "metadata": {
    "collapsed": false
   }
  },
  {
   "cell_type": "code",
   "execution_count": 145,
   "outputs": [],
   "source": [
    "related_partners = pd.read_pickle('../storage/related_partners.pkl')\n",
    "direct_owners = pd.read_pickle('../storage/direct_owners.pkl')\n",
    "\n",
    "related_partners = preprocess(related_partners, related_partners=True)\n",
    "direct_owners = preprocess(direct_owners, direct_owners=True)\n",
    "\n",
    "result_df = []\n",
    "\n",
    "for idx, row in match_df.iterrows():\n",
    "\n",
    "    cik_no_fund, crd_no_firm, crd_no_fund = row.cik_no_fund, row.crd_no_firm, row.crd_no_fund\n",
    "\n",
    "    table_a = related_partners[related_partners.cik_no_related_partners == cik_no_fund]\n",
    "    table_b = direct_owners[(direct_owners.crd_no_owners == crd_no_firm) | (direct_owners.crd_no_owners == crd_no_fund)]\n",
    "\n",
    "    match = get_match_df(table_a, table_b)\n",
    "\n",
    "    match['cik_no_fund'] = cik_no_fund\n",
    "    match['crd_no_firm'] = crd_no_firm\n",
    "    match['crd_no_fund'] = crd_no_fund\n",
    "\n",
    "    result_df.append(match)"
   ],
   "metadata": {
    "collapsed": false
   }
  },
  {
   "cell_type": "code",
   "execution_count": 146,
   "outputs": [],
   "source": [
    "stack_result = pd.DataFrame()\n",
    "\n",
    "for data in result_df:\n",
    "    if not data.empty:\n",
    "        if not stack_result.empty:\n",
    "            stack_result = pd.concat([stack_result, data], join='inner', ignore_index=True)\n",
    "        else:\n",
    "            stack_result = data"
   ],
   "metadata": {
    "collapsed": false
   }
  },
  {
   "cell_type": "code",
   "execution_count": 148,
   "outputs": [
    {
     "data": {
      "text/plain": "       owners_ratio   cik_no_fund    crd_no_firm    crd_no_fund\ncount   4086.000000  4.086000e+03    4086.000000    4086.000000\nmean       0.376562  1.200393e+06  191189.817425  190179.048458\nstd        0.103952  4.029254e+05   84400.335448   73317.742681\nmin        0.000000  3.570000e+03     361.000000     361.000000\n25%        0.312500  1.075202e+06  111289.000000  137432.000000\n50%        0.363636  1.355848e+06  160946.500000  163297.000000\n75%        0.424242  1.460329e+06  290576.000000  283533.000000\nmax        1.000000  1.769153e+06  324330.000000  324515.000000",
      "text/html": "<div>\n<style scoped>\n    .dataframe tbody tr th:only-of-type {\n        vertical-align: middle;\n    }\n\n    .dataframe tbody tr th {\n        vertical-align: top;\n    }\n\n    .dataframe thead th {\n        text-align: right;\n    }\n</style>\n<table border=\"1\" class=\"dataframe\">\n  <thead>\n    <tr style=\"text-align: right;\">\n      <th></th>\n      <th>owners_ratio</th>\n      <th>cik_no_fund</th>\n      <th>crd_no_firm</th>\n      <th>crd_no_fund</th>\n    </tr>\n  </thead>\n  <tbody>\n    <tr>\n      <th>count</th>\n      <td>4086.000000</td>\n      <td>4.086000e+03</td>\n      <td>4086.000000</td>\n      <td>4086.000000</td>\n    </tr>\n    <tr>\n      <th>mean</th>\n      <td>0.376562</td>\n      <td>1.200393e+06</td>\n      <td>191189.817425</td>\n      <td>190179.048458</td>\n    </tr>\n    <tr>\n      <th>std</th>\n      <td>0.103952</td>\n      <td>4.029254e+05</td>\n      <td>84400.335448</td>\n      <td>73317.742681</td>\n    </tr>\n    <tr>\n      <th>min</th>\n      <td>0.000000</td>\n      <td>3.570000e+03</td>\n      <td>361.000000</td>\n      <td>361.000000</td>\n    </tr>\n    <tr>\n      <th>25%</th>\n      <td>0.312500</td>\n      <td>1.075202e+06</td>\n      <td>111289.000000</td>\n      <td>137432.000000</td>\n    </tr>\n    <tr>\n      <th>50%</th>\n      <td>0.363636</td>\n      <td>1.355848e+06</td>\n      <td>160946.500000</td>\n      <td>163297.000000</td>\n    </tr>\n    <tr>\n      <th>75%</th>\n      <td>0.424242</td>\n      <td>1.460329e+06</td>\n      <td>290576.000000</td>\n      <td>283533.000000</td>\n    </tr>\n    <tr>\n      <th>max</th>\n      <td>1.000000</td>\n      <td>1.769153e+06</td>\n      <td>324330.000000</td>\n      <td>324515.000000</td>\n    </tr>\n  </tbody>\n</table>\n</div>"
     },
     "execution_count": 148,
     "metadata": {},
     "output_type": "execute_result"
    }
   ],
   "source": [
    "stack_result.describe()"
   ],
   "metadata": {
    "collapsed": false
   }
  }
 ],
 "metadata": {
  "kernelspec": {
   "display_name": "Python 3",
   "language": "python",
   "name": "python3"
  },
  "language_info": {
   "codemirror_mode": {
    "name": "ipython",
    "version": 2
   },
   "file_extension": ".py",
   "mimetype": "text/x-python",
   "name": "python",
   "nbconvert_exporter": "python",
   "pygments_lexer": "ipython2",
   "version": "2.7.6"
  }
 },
 "nbformat": 4,
 "nbformat_minor": 0
}
