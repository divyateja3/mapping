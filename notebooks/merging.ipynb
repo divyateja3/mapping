{
 "cells": [
  {
   "cell_type": "code",
   "execution_count": 1,
   "metadata": {
    "collapsed": true
   },
   "outputs": [],
   "source": [
    "import pandas as pd"
   ]
  },
  {
   "cell_type": "code",
   "execution_count": 2,
   "outputs": [],
   "source": [
    "matches_firms = pd.read_csv('../data/matches_firms.csv')\n",
    "matches_funds = pd.read_csv('../data/matches_funds.csv')\n",
    "matches_owners = pd.read_csv('../data/matches_owners.csv')"
   ],
   "metadata": {
    "collapsed": false
   }
  },
  {
   "cell_type": "code",
   "execution_count": 3,
   "outputs": [],
   "source": [
    "matches_firms_funds = pd.merge(matches_firms, matches_funds, how='inner')"
   ],
   "metadata": {
    "collapsed": false
   }
  },
  {
   "cell_type": "code",
   "execution_count": 4,
   "outputs": [],
   "source": [
    "# Formatting Data Frame\n",
    "filter_columns = [\n",
    "    'form_d_fund_id', 'cik_no_fund', 'fund',\n",
    "    'form_adv_firm_id', 'crd_no_firm', 'matched_firm', 'firm_confidence',\n",
    "    'form_adv_fund_id', 'crd_no_fund', 'matched_fund', 'fund_confidence',\n",
    "]\n",
    "matches_firms_funds = matches_firms_funds[filter_columns]"
   ],
   "metadata": {
    "collapsed": false
   }
  },
  {
   "cell_type": "code",
   "execution_count": 5,
   "outputs": [
    {
     "data": {
      "text/plain": "   form_d_fund_id  cik_no_fund                                    fund  \\\n0           54568      1694312     Ajo Emerging Markets Small Cap Fund   \n1           60070      1685357             Libra Fossil Fuel Free Fund   \n2           38363      1679614  Fiam Global Low Volatility Equity Fund   \n3           43377      1753457                   Parian Global Us Fund   \n4           24565      1450552                 Davi Luxury Brand Group   \n\n   form_adv_firm_id  crd_no_firm                           matched_firm  \\\n0               NaN       309921  Capitalworks Emerging Markets Advisor   \n1               NaN       281914                                   Fund   \n2               NaN       137649                 Global Equity Advisors   \n3           20874.0       297279               Parian Global Management   \n4          142265.0       306533                         Daventry Group   \n\n   firm_confidence  form_adv_fund_id  crd_no_fund  \\\n0         0.985133             602.0       105545   \n1         0.927080           11352.0       294197   \n2         0.891444           10035.0       133196   \n3         0.819455           20874.0       297279   \n4         0.983191            3170.0       110885   \n\n                             matched_fund  fund_confidence  \n0     Ajo Emerging Markets Small Cap Fund         0.000000  \n1             Libra Fossil Fuel Free Fund         0.000000  \n2  Fiam Global Low Volatility Equity Fund         0.000000  \n3                Parian Global Us Fund Ii         0.263488  \n4        Capital Group Euro Bond Fund Lux         0.974050  ",
      "text/html": "<div>\n<style scoped>\n    .dataframe tbody tr th:only-of-type {\n        vertical-align: middle;\n    }\n\n    .dataframe tbody tr th {\n        vertical-align: top;\n    }\n\n    .dataframe thead th {\n        text-align: right;\n    }\n</style>\n<table border=\"1\" class=\"dataframe\">\n  <thead>\n    <tr style=\"text-align: right;\">\n      <th></th>\n      <th>form_d_fund_id</th>\n      <th>cik_no_fund</th>\n      <th>fund</th>\n      <th>form_adv_firm_id</th>\n      <th>crd_no_firm</th>\n      <th>matched_firm</th>\n      <th>firm_confidence</th>\n      <th>form_adv_fund_id</th>\n      <th>crd_no_fund</th>\n      <th>matched_fund</th>\n      <th>fund_confidence</th>\n    </tr>\n  </thead>\n  <tbody>\n    <tr>\n      <th>0</th>\n      <td>54568</td>\n      <td>1694312</td>\n      <td>Ajo Emerging Markets Small Cap Fund</td>\n      <td>NaN</td>\n      <td>309921</td>\n      <td>Capitalworks Emerging Markets Advisor</td>\n      <td>0.985133</td>\n      <td>602.0</td>\n      <td>105545</td>\n      <td>Ajo Emerging Markets Small Cap Fund</td>\n      <td>0.000000</td>\n    </tr>\n    <tr>\n      <th>1</th>\n      <td>60070</td>\n      <td>1685357</td>\n      <td>Libra Fossil Fuel Free Fund</td>\n      <td>NaN</td>\n      <td>281914</td>\n      <td>Fund</td>\n      <td>0.927080</td>\n      <td>11352.0</td>\n      <td>294197</td>\n      <td>Libra Fossil Fuel Free Fund</td>\n      <td>0.000000</td>\n    </tr>\n    <tr>\n      <th>2</th>\n      <td>38363</td>\n      <td>1679614</td>\n      <td>Fiam Global Low Volatility Equity Fund</td>\n      <td>NaN</td>\n      <td>137649</td>\n      <td>Global Equity Advisors</td>\n      <td>0.891444</td>\n      <td>10035.0</td>\n      <td>133196</td>\n      <td>Fiam Global Low Volatility Equity Fund</td>\n      <td>0.000000</td>\n    </tr>\n    <tr>\n      <th>3</th>\n      <td>43377</td>\n      <td>1753457</td>\n      <td>Parian Global Us Fund</td>\n      <td>20874.0</td>\n      <td>297279</td>\n      <td>Parian Global Management</td>\n      <td>0.819455</td>\n      <td>20874.0</td>\n      <td>297279</td>\n      <td>Parian Global Us Fund Ii</td>\n      <td>0.263488</td>\n    </tr>\n    <tr>\n      <th>4</th>\n      <td>24565</td>\n      <td>1450552</td>\n      <td>Davi Luxury Brand Group</td>\n      <td>142265.0</td>\n      <td>306533</td>\n      <td>Daventry Group</td>\n      <td>0.983191</td>\n      <td>3170.0</td>\n      <td>110885</td>\n      <td>Capital Group Euro Bond Fund Lux</td>\n      <td>0.974050</td>\n    </tr>\n  </tbody>\n</table>\n</div>"
     },
     "execution_count": 5,
     "metadata": {},
     "output_type": "execute_result"
    }
   ],
   "source": [
    "matches_firms_funds.head()"
   ],
   "metadata": {
    "collapsed": false
   }
  },
  {
   "cell_type": "markdown",
   "source": [
    "Testing"
   ],
   "metadata": {
    "collapsed": false
   }
  },
  {
   "cell_type": "code",
   "execution_count": 39,
   "outputs": [],
   "source": [
    "match_df = matches_firms_funds.iloc[:10]"
   ],
   "metadata": {
    "collapsed": false
   }
  },
  {
   "cell_type": "code",
   "execution_count": 40,
   "outputs": [],
   "source": [
    "cols = ['cik_no_fund', 'crd_no_firm', 'crd_no_fund']\n",
    "\n",
    "match_df = match_df[cols]"
   ],
   "metadata": {
    "collapsed": false
   }
  },
  {
   "cell_type": "code",
   "execution_count": 41,
   "outputs": [],
   "source": [
    "from sklearn.feature_extraction.text import TfidfVectorizer\n",
    "from sklearn.neighbors import NearestNeighbors\n",
    "from ftfy import fix_text\n",
    "\n",
    "def get_match_df(data_a, data_b):\n",
    "\n",
    "    def _ngrams(string, n=2):\n",
    "        string = str(string)\n",
    "        string = fix_text(string)  # fix text\n",
    "        n_grams = zip(*[string[i:] for i in range(n)])\n",
    "        return [''.join(ngram) for ngram in n_grams]\n",
    "\n",
    "    right_values = data_b.direct_owners.unique()\n",
    "\n",
    "    vectorizer = TfidfVectorizer(min_df=1, analyzer=_ngrams, lowercase=False)\n",
    "    tfidf = vectorizer.fit_transform(right_values)\n",
    "    nbrs = NearestNeighbors(n_neighbors=1, n_jobs=-1).fit(tfidf)\n",
    "\n",
    "    # column to match against in the data\n",
    "    left_values = set(data_a.related_partners)  # set used for increased performance\n",
    "\n",
    "    # matching query\n",
    "    def _getNearestN(query):\n",
    "        queryTFIDF_ = vectorizer.transform(query)\n",
    "        distances, indices = nbrs.kneighbors(queryTFIDF_)\n",
    "        return distances, indices\n",
    "\n",
    "    distances, indices = _getNearestN(left_values)\n",
    "\n",
    "    left_values = list(left_values)  # need to convert back to a list\n",
    "\n",
    "    matches = []\n",
    "    for i, j in enumerate(indices):\n",
    "        temp = [left_values[i], right_values[j][0], distances[i][0]]\n",
    "        matches.append(temp)\n",
    "\n",
    "    matches = pd.DataFrame(matches, columns=['related_partners', 'matched_owners', f'owners_confidence'])\n",
    "\n",
    "    return matches"
   ],
   "metadata": {
    "collapsed": false
   }
  },
  {
   "cell_type": "code",
   "execution_count": 42,
   "outputs": [
    {
     "ename": "ValueError",
     "evalue": "Found array with 0 sample(s) (shape=(0, 146)) while a minimum of 1 is required.",
     "output_type": "error",
     "traceback": [
      "\u001B[1;31m---------------------------------------------------------------------------\u001B[0m",
      "\u001B[1;31mValueError\u001B[0m                                Traceback (most recent call last)",
      "\u001B[1;32mC:\\Users\\KARTHI~1\\AppData\\Local\\Temp/ipykernel_12440/2649868574.py\u001B[0m in \u001B[0;36m<module>\u001B[1;34m\u001B[0m\n\u001B[0;32m     11\u001B[0m     \u001B[0mtable_b\u001B[0m \u001B[1;33m=\u001B[0m \u001B[0mdirect_owners\u001B[0m\u001B[1;33m[\u001B[0m\u001B[1;33m(\u001B[0m\u001B[0mdirect_owners\u001B[0m\u001B[1;33m.\u001B[0m\u001B[0mcrd_no_owners\u001B[0m \u001B[1;33m==\u001B[0m \u001B[0mcrd_no_firm\u001B[0m\u001B[1;33m)\u001B[0m \u001B[1;33m|\u001B[0m \u001B[1;33m(\u001B[0m\u001B[0mdirect_owners\u001B[0m\u001B[1;33m.\u001B[0m\u001B[0mcrd_no_owners\u001B[0m \u001B[1;33m==\u001B[0m \u001B[0mcrd_no_fund\u001B[0m\u001B[1;33m)\u001B[0m\u001B[1;33m]\u001B[0m\u001B[1;33m\u001B[0m\u001B[0m\n\u001B[0;32m     12\u001B[0m \u001B[1;33m\u001B[0m\u001B[0m\n\u001B[1;32m---> 13\u001B[1;33m     \u001B[0mmatch\u001B[0m \u001B[1;33m=\u001B[0m \u001B[0mget_match_df\u001B[0m\u001B[1;33m(\u001B[0m\u001B[0mtable_a\u001B[0m\u001B[1;33m,\u001B[0m \u001B[0mtable_b\u001B[0m\u001B[1;33m)\u001B[0m\u001B[1;33m\u001B[0m\u001B[0m\n\u001B[0m\u001B[0;32m     14\u001B[0m \u001B[1;33m\u001B[0m\u001B[0m\n\u001B[0;32m     15\u001B[0m     \u001B[0mresult_df\u001B[0m\u001B[1;33m.\u001B[0m\u001B[0mappend\u001B[0m\u001B[1;33m(\u001B[0m\u001B[0mmatch\u001B[0m\u001B[1;33m)\u001B[0m\u001B[1;33m\u001B[0m\u001B[0m\n",
      "\u001B[1;32mC:\\Users\\KARTHI~1\\AppData\\Local\\Temp/ipykernel_12440/1307332709.py\u001B[0m in \u001B[0;36mget_match_df\u001B[1;34m(data_a, data_b)\u001B[0m\n\u001B[0;32m     26\u001B[0m         \u001B[1;32mreturn\u001B[0m \u001B[0mdistances\u001B[0m\u001B[1;33m,\u001B[0m \u001B[0mindices\u001B[0m\u001B[1;33m\u001B[0m\u001B[0m\n\u001B[0;32m     27\u001B[0m \u001B[1;33m\u001B[0m\u001B[0m\n\u001B[1;32m---> 28\u001B[1;33m     \u001B[0mdistances\u001B[0m\u001B[1;33m,\u001B[0m \u001B[0mindices\u001B[0m \u001B[1;33m=\u001B[0m \u001B[0m_getNearestN\u001B[0m\u001B[1;33m(\u001B[0m\u001B[0mleft_values\u001B[0m\u001B[1;33m)\u001B[0m\u001B[1;33m\u001B[0m\u001B[0m\n\u001B[0m\u001B[0;32m     29\u001B[0m \u001B[1;33m\u001B[0m\u001B[0m\n\u001B[0;32m     30\u001B[0m     \u001B[0mleft_values\u001B[0m \u001B[1;33m=\u001B[0m \u001B[0mlist\u001B[0m\u001B[1;33m(\u001B[0m\u001B[0mleft_values\u001B[0m\u001B[1;33m)\u001B[0m  \u001B[1;31m# need to convert back to a list\u001B[0m\u001B[1;33m\u001B[0m\u001B[0m\n",
      "\u001B[1;32mC:\\Users\\KARTHI~1\\AppData\\Local\\Temp/ipykernel_12440/1307332709.py\u001B[0m in \u001B[0;36m_getNearestN\u001B[1;34m(query)\u001B[0m\n\u001B[0;32m     22\u001B[0m     \u001B[1;31m# matching query\u001B[0m\u001B[1;33m\u001B[0m\u001B[1;33m\u001B[0m\u001B[0m\n\u001B[0;32m     23\u001B[0m     \u001B[1;32mdef\u001B[0m \u001B[0m_getNearestN\u001B[0m\u001B[1;33m(\u001B[0m\u001B[0mquery\u001B[0m\u001B[1;33m)\u001B[0m\u001B[1;33m:\u001B[0m\u001B[1;33m\u001B[0m\u001B[0m\n\u001B[1;32m---> 24\u001B[1;33m         \u001B[0mqueryTFIDF_\u001B[0m \u001B[1;33m=\u001B[0m \u001B[0mvectorizer\u001B[0m\u001B[1;33m.\u001B[0m\u001B[0mtransform\u001B[0m\u001B[1;33m(\u001B[0m\u001B[0mquery\u001B[0m\u001B[1;33m)\u001B[0m\u001B[1;33m\u001B[0m\u001B[0m\n\u001B[0m\u001B[0;32m     25\u001B[0m         \u001B[0mdistances\u001B[0m\u001B[1;33m,\u001B[0m \u001B[0mindices\u001B[0m \u001B[1;33m=\u001B[0m \u001B[0mnbrs\u001B[0m\u001B[1;33m.\u001B[0m\u001B[0mkneighbors\u001B[0m\u001B[1;33m(\u001B[0m\u001B[0mqueryTFIDF_\u001B[0m\u001B[1;33m)\u001B[0m\u001B[1;33m\u001B[0m\u001B[0m\n\u001B[0;32m     26\u001B[0m         \u001B[1;32mreturn\u001B[0m \u001B[0mdistances\u001B[0m\u001B[1;33m,\u001B[0m \u001B[0mindices\u001B[0m\u001B[1;33m\u001B[0m\u001B[0m\n",
      "\u001B[1;32mc:\\users\\karthikeya\\appdata\\local\\programs\\python\\python37\\lib\\site-packages\\sklearn\\feature_extraction\\text.py\u001B[0m in \u001B[0;36mtransform\u001B[1;34m(self, raw_documents)\u001B[0m\n\u001B[0;32m   2100\u001B[0m \u001B[1;33m\u001B[0m\u001B[0m\n\u001B[0;32m   2101\u001B[0m         \u001B[0mX\u001B[0m \u001B[1;33m=\u001B[0m \u001B[0msuper\u001B[0m\u001B[1;33m(\u001B[0m\u001B[1;33m)\u001B[0m\u001B[1;33m.\u001B[0m\u001B[0mtransform\u001B[0m\u001B[1;33m(\u001B[0m\u001B[0mraw_documents\u001B[0m\u001B[1;33m)\u001B[0m\u001B[1;33m\u001B[0m\u001B[0m\n\u001B[1;32m-> 2102\u001B[1;33m         \u001B[1;32mreturn\u001B[0m \u001B[0mself\u001B[0m\u001B[1;33m.\u001B[0m\u001B[0m_tfidf\u001B[0m\u001B[1;33m.\u001B[0m\u001B[0mtransform\u001B[0m\u001B[1;33m(\u001B[0m\u001B[0mX\u001B[0m\u001B[1;33m,\u001B[0m \u001B[0mcopy\u001B[0m\u001B[1;33m=\u001B[0m\u001B[1;32mFalse\u001B[0m\u001B[1;33m)\u001B[0m\u001B[1;33m\u001B[0m\u001B[0m\n\u001B[0m\u001B[0;32m   2103\u001B[0m \u001B[1;33m\u001B[0m\u001B[0m\n\u001B[0;32m   2104\u001B[0m     \u001B[1;32mdef\u001B[0m \u001B[0m_more_tags\u001B[0m\u001B[1;33m(\u001B[0m\u001B[0mself\u001B[0m\u001B[1;33m)\u001B[0m\u001B[1;33m:\u001B[0m\u001B[1;33m\u001B[0m\u001B[0m\n",
      "\u001B[1;32mc:\\users\\karthikeya\\appdata\\local\\programs\\python\\python37\\lib\\site-packages\\sklearn\\feature_extraction\\text.py\u001B[0m in \u001B[0;36mtransform\u001B[1;34m(self, X, copy)\u001B[0m\n\u001B[0;32m   1659\u001B[0m         \"\"\"\n\u001B[0;32m   1660\u001B[0m         X = self._validate_data(\n\u001B[1;32m-> 1661\u001B[1;33m             \u001B[0mX\u001B[0m\u001B[1;33m,\u001B[0m \u001B[0maccept_sparse\u001B[0m\u001B[1;33m=\u001B[0m\u001B[1;34m\"csr\"\u001B[0m\u001B[1;33m,\u001B[0m \u001B[0mdtype\u001B[0m\u001B[1;33m=\u001B[0m\u001B[0mFLOAT_DTYPES\u001B[0m\u001B[1;33m,\u001B[0m \u001B[0mcopy\u001B[0m\u001B[1;33m=\u001B[0m\u001B[0mcopy\u001B[0m\u001B[1;33m,\u001B[0m \u001B[0mreset\u001B[0m\u001B[1;33m=\u001B[0m\u001B[1;32mFalse\u001B[0m\u001B[1;33m\u001B[0m\u001B[0m\n\u001B[0m\u001B[0;32m   1662\u001B[0m         )\n\u001B[0;32m   1663\u001B[0m         \u001B[1;32mif\u001B[0m \u001B[1;32mnot\u001B[0m \u001B[0msp\u001B[0m\u001B[1;33m.\u001B[0m\u001B[0missparse\u001B[0m\u001B[1;33m(\u001B[0m\u001B[0mX\u001B[0m\u001B[1;33m)\u001B[0m\u001B[1;33m:\u001B[0m\u001B[1;33m\u001B[0m\u001B[0m\n",
      "\u001B[1;32mc:\\users\\karthikeya\\appdata\\local\\programs\\python\\python37\\lib\\site-packages\\sklearn\\base.py\u001B[0m in \u001B[0;36m_validate_data\u001B[1;34m(self, X, y, reset, validate_separately, **check_params)\u001B[0m\n\u001B[0;32m    564\u001B[0m             \u001B[1;32mraise\u001B[0m \u001B[0mValueError\u001B[0m\u001B[1;33m(\u001B[0m\u001B[1;34m\"Validation should be done on X, y or both.\"\u001B[0m\u001B[1;33m)\u001B[0m\u001B[1;33m\u001B[0m\u001B[0m\n\u001B[0;32m    565\u001B[0m         \u001B[1;32melif\u001B[0m \u001B[1;32mnot\u001B[0m \u001B[0mno_val_X\u001B[0m \u001B[1;32mand\u001B[0m \u001B[0mno_val_y\u001B[0m\u001B[1;33m:\u001B[0m\u001B[1;33m\u001B[0m\u001B[0m\n\u001B[1;32m--> 566\u001B[1;33m             \u001B[0mX\u001B[0m \u001B[1;33m=\u001B[0m \u001B[0mcheck_array\u001B[0m\u001B[1;33m(\u001B[0m\u001B[0mX\u001B[0m\u001B[1;33m,\u001B[0m \u001B[1;33m**\u001B[0m\u001B[0mcheck_params\u001B[0m\u001B[1;33m)\u001B[0m\u001B[1;33m\u001B[0m\u001B[0m\n\u001B[0m\u001B[0;32m    567\u001B[0m             \u001B[0mout\u001B[0m \u001B[1;33m=\u001B[0m \u001B[0mX\u001B[0m\u001B[1;33m\u001B[0m\u001B[0m\n\u001B[0;32m    568\u001B[0m         \u001B[1;32melif\u001B[0m \u001B[0mno_val_X\u001B[0m \u001B[1;32mand\u001B[0m \u001B[1;32mnot\u001B[0m \u001B[0mno_val_y\u001B[0m\u001B[1;33m:\u001B[0m\u001B[1;33m\u001B[0m\u001B[0m\n",
      "\u001B[1;32mc:\\users\\karthikeya\\appdata\\local\\programs\\python\\python37\\lib\\site-packages\\sklearn\\utils\\validation.py\u001B[0m in \u001B[0;36mcheck_array\u001B[1;34m(array, accept_sparse, accept_large_sparse, dtype, order, copy, force_all_finite, ensure_2d, allow_nd, ensure_min_samples, ensure_min_features, estimator)\u001B[0m\n\u001B[0;32m    806\u001B[0m                 \u001B[1;34m\"Found array with %d sample(s) (shape=%s) while a\"\u001B[0m\u001B[1;33m\u001B[0m\u001B[0m\n\u001B[0;32m    807\u001B[0m                 \u001B[1;34m\" minimum of %d is required%s.\"\u001B[0m\u001B[1;33m\u001B[0m\u001B[0m\n\u001B[1;32m--> 808\u001B[1;33m                 \u001B[1;33m%\u001B[0m \u001B[1;33m(\u001B[0m\u001B[0mn_samples\u001B[0m\u001B[1;33m,\u001B[0m \u001B[0marray\u001B[0m\u001B[1;33m.\u001B[0m\u001B[0mshape\u001B[0m\u001B[1;33m,\u001B[0m \u001B[0mensure_min_samples\u001B[0m\u001B[1;33m,\u001B[0m \u001B[0mcontext\u001B[0m\u001B[1;33m)\u001B[0m\u001B[1;33m\u001B[0m\u001B[0m\n\u001B[0m\u001B[0;32m    809\u001B[0m             )\n\u001B[0;32m    810\u001B[0m \u001B[1;33m\u001B[0m\u001B[0m\n",
      "\u001B[1;31mValueError\u001B[0m: Found array with 0 sample(s) (shape=(0, 146)) while a minimum of 1 is required."
     ]
    }
   ],
   "source": [
    "related_partners = pd.read_pickle('../storage/related_partners.pkl')\n",
    "direct_owners = pd.read_pickle('../storage/direct_owners.pkl')\n",
    "\n",
    "result_df = []\n",
    "\n",
    "for idx, row in match_df.iterrows():\n",
    "\n",
    "    cik_no_fund, crd_no_firm, crd_no_fund = row.cik_no_fund, row.crd_no_firm, row.crd_no_fund\n",
    "\n",
    "    table_a = related_partners[related_partners.cik_no_related_partners == cik_no_fund]\n",
    "    table_b = direct_owners[(direct_owners.crd_no_owners == crd_no_firm) | (direct_owners.crd_no_owners == crd_no_fund)]\n",
    "\n",
    "    match = get_match_df(table_a, table_b)\n",
    "\n",
    "    result_df.append(match)"
   ],
   "metadata": {
    "collapsed": false
   }
  },
  {
   "cell_type": "code",
   "execution_count": 43,
   "outputs": [
    {
     "ename": "IndexError",
     "evalue": "list index out of range",
     "output_type": "error",
     "traceback": [
      "\u001B[1;31m---------------------------------------------------------------------------\u001B[0m",
      "\u001B[1;31mIndexError\u001B[0m                                Traceback (most recent call last)",
      "\u001B[1;32mC:\\Users\\KARTHI~1\\AppData\\Local\\Temp/ipykernel_12440/845551080.py\u001B[0m in \u001B[0;36m<module>\u001B[1;34m\u001B[0m\n\u001B[1;32m----> 1\u001B[1;33m \u001B[0mresult_df\u001B[0m\u001B[1;33m[\u001B[0m\u001B[1;36m0\u001B[0m\u001B[1;33m]\u001B[0m\u001B[1;33m.\u001B[0m\u001B[0mhead\u001B[0m\u001B[1;33m(\u001B[0m\u001B[1;33m)\u001B[0m\u001B[1;33m\u001B[0m\u001B[0m\n\u001B[0m",
      "\u001B[1;31mIndexError\u001B[0m: list index out of range"
     ]
    }
   ],
   "source": [
    "result_df[0].head()"
   ],
   "metadata": {
    "collapsed": false
   }
  }
 ],
 "metadata": {
  "kernelspec": {
   "display_name": "Python 3",
   "language": "python",
   "name": "python3"
  },
  "language_info": {
   "codemirror_mode": {
    "name": "ipython",
    "version": 2
   },
   "file_extension": ".py",
   "mimetype": "text/x-python",
   "name": "python",
   "nbconvert_exporter": "python",
   "pygments_lexer": "ipython2",
   "version": "2.7.6"
  }
 },
 "nbformat": 4,
 "nbformat_minor": 0
}
