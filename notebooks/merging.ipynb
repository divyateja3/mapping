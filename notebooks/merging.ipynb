{
 "cells": [
  {
   "cell_type": "markdown",
   "source": [
    "### Import Libraries"
   ],
   "metadata": {
    "collapsed": false
   }
  },
  {
   "cell_type": "code",
   "execution_count": 43,
   "outputs": [],
   "source": [
    "import numpy as np\n",
    "import pandas as pd\n",
    "\n",
    "from utils.processing import preprocess\n",
    "from utils.matching import get_fuzzy_matches_df"
   ],
   "metadata": {
    "collapsed": false
   }
  },
  {
   "cell_type": "code",
   "execution_count": 44,
   "outputs": [],
   "source": [
    "matches_funds = pd.read_csv('../data/matches_funds.csv')"
   ],
   "metadata": {
    "collapsed": false
   }
  },
  {
   "cell_type": "code",
   "execution_count": 45,
   "outputs": [],
   "source": [
    "# Formatting Data Frame\n",
    "filter_columns = [\n",
    "    'form_d_firm_id', 'cik_no_fund', 'fund',\n",
    "    'form_adv_firm_id', 'firm_id', 'crd_no_fund', 'matched_fund', 'fund_confidence',\n",
    "]\n",
    "matches_funds = matches_funds[filter_columns]"
   ],
   "metadata": {
    "collapsed": false
   }
  },
  {
   "cell_type": "markdown",
   "source": [
    "### Merge with corresponding <direct_owners>"
   ],
   "metadata": {
    "collapsed": false
   }
  },
  {
   "cell_type": "code",
   "execution_count": 46,
   "outputs": [],
   "source": [
    "related_partners = pd.read_pickle('../storage/related_partners.pkl')\n",
    "direct_owners = pd.read_pickle('../storage/direct_owners.pkl')"
   ],
   "metadata": {
    "collapsed": false
   }
  },
  {
   "cell_type": "code",
   "execution_count": 47,
   "outputs": [],
   "source": [
    "related_partners = preprocess(related_partners, related_partners=True)\n",
    "direct_owners = preprocess(direct_owners, direct_owners=True)"
   ],
   "metadata": {
    "collapsed": false
   }
  },
  {
   "cell_type": "code",
   "execution_count": 48,
   "outputs": [],
   "source": [
    "matches_owners = get_fuzzy_matches_df(matches_funds, related_partners, direct_owners)"
   ],
   "metadata": {
    "collapsed": false
   }
  },
  {
   "cell_type": "code",
   "execution_count": 49,
   "outputs": [],
   "source": [
    "match_funds_owners = pd.merge(matches_funds, matches_owners, how='inner')"
   ],
   "metadata": {
    "collapsed": false
   }
  },
  {
   "cell_type": "code",
   "execution_count": 50,
   "outputs": [],
   "source": [
    "filter_columns = [\n",
    "    'form_d_firm_id', 'cik_no_fund', 'fund',\n",
    "    'form_adv_firm_id', 'firm_id', 'crd_no_fund', 'matched_fund', 'fund_confidence',\n",
    "    'related_partners',\n",
    "    'direct_owners_fund', 'owners_fund_ratio'\n",
    "]\n",
    "match_funds_owners = match_funds_owners[filter_columns]"
   ],
   "metadata": {
    "collapsed": false
   }
  },
  {
   "cell_type": "markdown",
   "source": [
    "### Process merged matches"
   ],
   "metadata": {
    "collapsed": false
   }
  },
  {
   "cell_type": "code",
   "execution_count": 51,
   "outputs": [],
   "source": [
    "# Sort by fund_confidence\n",
    "match_funds_owners = match_funds_owners.sort_values(by='fund_confidence', ignore_index=True)"
   ],
   "metadata": {
    "collapsed": false
   }
  },
  {
   "cell_type": "code",
   "execution_count": 52,
   "outputs": [],
   "source": [
    "# Round off confidence & ratio\n",
    "match_funds_owners = match_funds_owners.round({'fund_confidence': 3, 'firm_confidence': 3, 'owners_firm_ratio': 3, 'owners_fund_ratio': 3})"
   ],
   "metadata": {
    "collapsed": false
   }
  },
  {
   "cell_type": "code",
   "execution_count": 53,
   "outputs": [],
   "source": [
    "# Threshold\n",
    "fund_threshold, owners_threshold = 0.512, 0.555\n",
    "match_funds_owners = match_funds_owners[(match_funds_owners.fund_confidence < fund_threshold) | (match_funds_owners.owners_fund_ratio > owners_threshold)]"
   ],
   "metadata": {
    "collapsed": false
   }
  },
  {
   "cell_type": "code",
   "execution_count": 54,
   "outputs": [],
   "source": [
    "# Drop Null matches\n",
    "match_funds_owners.dropna(subset=['fund', 'matched_fund'], inplace=True)\n",
    "match_funds_owners = match_funds_owners[match_funds_owners.fund_confidence != 1]"
   ],
   "metadata": {
    "collapsed": false
   }
  },
  {
   "cell_type": "code",
   "execution_count": 55,
   "outputs": [],
   "source": [
    "# Drop duplicates\n",
    "match_funds_owners = match_funds_owners[match_funds_owners['owners_fund_ratio'] == match_funds_owners.groupby('cik_no_fund')['owners_fund_ratio'].transform(max)]"
   ],
   "metadata": {
    "collapsed": false
   }
  },
  {
   "cell_type": "code",
   "execution_count": 56,
   "outputs": [],
   "source": [
    "# Inverse fund_confidence\n",
    "match_funds_owners['fund_confidence'] = 1 - match_funds_owners['fund_confidence']"
   ],
   "metadata": {
    "collapsed": false
   }
  },
  {
   "cell_type": "code",
   "execution_count": 57,
   "outputs": [],
   "source": [
    "# Add cik_no_fund Column\n",
    "match_funds_owners['cik_no_fund'] = np.nan"
   ],
   "metadata": {
    "collapsed": false
   }
  },
  {
   "cell_type": "code",
   "execution_count": 58,
   "outputs": [],
   "source": [
    "# Rename columns\n",
    "filter_columns = [\n",
    "    'fund', 'cik_no_fund',\n",
    "    'matched_fund', 'crd_no_fund', 'cik_no_fund', 'fund_confidence',\n",
    "    'firm_id', 'form_d_firm_id', 'form_adv_firm_id',\n",
    "]\n",
    "match_funds_owners = match_funds_owners[filter_columns]\n",
    "match_funds_owners.rename({\n",
    "    'fund': 'entity_name', 'cik_no_fund': 'formd_cik',\n",
    "    'matched_fund': 'firm_name', 'crd_no_fund': 'firm_crd', 'fund_confidence': 'match_score',\n",
    "    'form_d_firm_id': 'firm_formd_value_id'\n",
    "}, inplace=True, axis=1)"
   ],
   "metadata": {
    "collapsed": false
   }
  },
  {
   "cell_type": "code",
   "execution_count": 59,
   "outputs": [],
   "source": [
    "# To CSV format\n",
    "match_funds_owners.to_csv('../output/matches_funds_owners.csv')"
   ],
   "metadata": {
    "collapsed": false
   }
  }
 ],
 "metadata": {
  "kernelspec": {
   "display_name": "Python 3",
   "language": "python",
   "name": "python3"
  },
  "language_info": {
   "codemirror_mode": {
    "name": "ipython",
    "version": 2
   },
   "file_extension": ".py",
   "mimetype": "text/x-python",
   "name": "python",
   "nbconvert_exporter": "python",
   "pygments_lexer": "ipython2",
   "version": "2.7.6"
  }
 },
 "nbformat": 4,
 "nbformat_minor": 0
}
