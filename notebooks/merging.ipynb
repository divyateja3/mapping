{
 "cells": [
  {
   "cell_type": "code",
   "execution_count": 19,
   "metadata": {
    "collapsed": true
   },
   "outputs": [],
   "source": [
    "import pandas as pd\n",
    "\n",
    "from mapping.utils.processing import preprocess"
   ]
  },
  {
   "cell_type": "code",
   "execution_count": 20,
   "metadata": {
    "collapsed": false
   },
   "outputs": [],
   "source": [
    "matches_firms = pd.read_csv('../data/matches_firms.csv')\n",
    "matches_funds = pd.read_csv('../data/matches_funds.csv')\n",
    "matches_owners = pd.read_csv('../data/matches_owners.csv')"
   ]
  },
  {
   "cell_type": "code",
   "execution_count": 21,
   "metadata": {
    "collapsed": false
   },
   "outputs": [],
   "source": [
    "matches_firms_funds = pd.merge(matches_firms, matches_funds, how='inner')"
   ]
  },
  {
   "cell_type": "code",
   "execution_count": 22,
   "metadata": {
    "collapsed": false
   },
   "outputs": [],
   "source": [
    "# Formatting Data Frame\n",
    "filter_columns = [\n",
    "    'form_d_fund_id', 'cik_no_fund', 'fund',\n",
    "    'form_adv_firm_id', 'crd_no_firm', 'matched_firm', 'firm_confidence',\n",
    "    'form_adv_fund_id', 'crd_no_fund', 'matched_fund', 'fund_confidence',\n",
    "]\n",
    "matches_firms_funds = matches_firms_funds[filter_columns]"
   ]
  },
  {
   "cell_type": "code",
   "execution_count": 23,
   "metadata": {
    "collapsed": false
   },
   "outputs": [
    {
     "data": {
      "text/html": [
       "<div>\n",
       "<style scoped>\n",
       "    .dataframe tbody tr th:only-of-type {\n",
       "        vertical-align: middle;\n",
       "    }\n",
       "\n",
       "    .dataframe tbody tr th {\n",
       "        vertical-align: top;\n",
       "    }\n",
       "\n",
       "    .dataframe thead th {\n",
       "        text-align: right;\n",
       "    }\n",
       "</style>\n",
       "<table border=\"1\" class=\"dataframe\">\n",
       "  <thead>\n",
       "    <tr style=\"text-align: right;\">\n",
       "      <th></th>\n",
       "      <th>form_d_fund_id</th>\n",
       "      <th>cik_no_fund</th>\n",
       "      <th>fund</th>\n",
       "      <th>form_adv_firm_id</th>\n",
       "      <th>crd_no_firm</th>\n",
       "      <th>matched_firm</th>\n",
       "      <th>firm_confidence</th>\n",
       "      <th>form_adv_fund_id</th>\n",
       "      <th>crd_no_fund</th>\n",
       "      <th>matched_fund</th>\n",
       "      <th>fund_confidence</th>\n",
       "    </tr>\n",
       "  </thead>\n",
       "  <tbody>\n",
       "    <tr>\n",
       "      <th>0</th>\n",
       "      <td>54568</td>\n",
       "      <td>1694312</td>\n",
       "      <td>Ajo Emerging Markets Small Cap Fund</td>\n",
       "      <td>NaN</td>\n",
       "      <td>309921</td>\n",
       "      <td>Capitalworks Emerging Markets Advisor</td>\n",
       "      <td>0.985133</td>\n",
       "      <td>602.0</td>\n",
       "      <td>105545</td>\n",
       "      <td>Ajo Emerging Markets Small Cap Fund</td>\n",
       "      <td>0.000000</td>\n",
       "    </tr>\n",
       "    <tr>\n",
       "      <th>1</th>\n",
       "      <td>60070</td>\n",
       "      <td>1685357</td>\n",
       "      <td>Libra Fossil Fuel Free Fund</td>\n",
       "      <td>NaN</td>\n",
       "      <td>281914</td>\n",
       "      <td>Fund</td>\n",
       "      <td>0.927080</td>\n",
       "      <td>11352.0</td>\n",
       "      <td>294197</td>\n",
       "      <td>Libra Fossil Fuel Free Fund</td>\n",
       "      <td>0.000000</td>\n",
       "    </tr>\n",
       "    <tr>\n",
       "      <th>2</th>\n",
       "      <td>38363</td>\n",
       "      <td>1679614</td>\n",
       "      <td>Fiam Global Low Volatility Equity Fund</td>\n",
       "      <td>NaN</td>\n",
       "      <td>137649</td>\n",
       "      <td>Global Equity Advisors</td>\n",
       "      <td>0.891444</td>\n",
       "      <td>10035.0</td>\n",
       "      <td>133196</td>\n",
       "      <td>Fiam Global Low Volatility Equity Fund</td>\n",
       "      <td>0.000000</td>\n",
       "    </tr>\n",
       "    <tr>\n",
       "      <th>3</th>\n",
       "      <td>43377</td>\n",
       "      <td>1753457</td>\n",
       "      <td>Parian Global Us Fund</td>\n",
       "      <td>20874.0</td>\n",
       "      <td>297279</td>\n",
       "      <td>Parian Global Management</td>\n",
       "      <td>0.819455</td>\n",
       "      <td>20874.0</td>\n",
       "      <td>297279</td>\n",
       "      <td>Parian Global Us Fund Ii</td>\n",
       "      <td>0.263488</td>\n",
       "    </tr>\n",
       "    <tr>\n",
       "      <th>4</th>\n",
       "      <td>24565</td>\n",
       "      <td>1450552</td>\n",
       "      <td>Davi Luxury Brand Group</td>\n",
       "      <td>142265.0</td>\n",
       "      <td>306533</td>\n",
       "      <td>Daventry Group</td>\n",
       "      <td>0.983191</td>\n",
       "      <td>3170.0</td>\n",
       "      <td>110885</td>\n",
       "      <td>Capital Group Euro Bond Fund Lux</td>\n",
       "      <td>0.974050</td>\n",
       "    </tr>\n",
       "  </tbody>\n",
       "</table>\n",
       "</div>"
      ],
      "text/plain": [
       "   form_d_fund_id  cik_no_fund                                    fund  \\\n",
       "0           54568      1694312     Ajo Emerging Markets Small Cap Fund   \n",
       "1           60070      1685357             Libra Fossil Fuel Free Fund   \n",
       "2           38363      1679614  Fiam Global Low Volatility Equity Fund   \n",
       "3           43377      1753457                   Parian Global Us Fund   \n",
       "4           24565      1450552                 Davi Luxury Brand Group   \n",
       "\n",
       "   form_adv_firm_id  crd_no_firm                           matched_firm  \\\n",
       "0               NaN       309921  Capitalworks Emerging Markets Advisor   \n",
       "1               NaN       281914                                   Fund   \n",
       "2               NaN       137649                 Global Equity Advisors   \n",
       "3           20874.0       297279               Parian Global Management   \n",
       "4          142265.0       306533                         Daventry Group   \n",
       "\n",
       "   firm_confidence  form_adv_fund_id  crd_no_fund  \\\n",
       "0         0.985133             602.0       105545   \n",
       "1         0.927080           11352.0       294197   \n",
       "2         0.891444           10035.0       133196   \n",
       "3         0.819455           20874.0       297279   \n",
       "4         0.983191            3170.0       110885   \n",
       "\n",
       "                             matched_fund  fund_confidence  \n",
       "0     Ajo Emerging Markets Small Cap Fund         0.000000  \n",
       "1             Libra Fossil Fuel Free Fund         0.000000  \n",
       "2  Fiam Global Low Volatility Equity Fund         0.000000  \n",
       "3                Parian Global Us Fund Ii         0.263488  \n",
       "4        Capital Group Euro Bond Fund Lux         0.974050  "
      ]
     },
     "execution_count": 23,
     "metadata": {},
     "output_type": "execute_result"
    }
   ],
   "source": [
    "matches_firms_funds.head()"
   ]
  },
  {
   "cell_type": "code",
   "execution_count": 141,
   "metadata": {
    "collapsed": false
   },
   "outputs": [],
   "source": []
  },
  {
   "cell_type": "markdown",
   "metadata": {
    "collapsed": false
   },
   "source": [
    "Testing"
   ]
  },
  {
   "cell_type": "code",
   "execution_count": 24,
   "metadata": {
    "collapsed": false
   },
   "outputs": [],
   "source": [
    "match_df = matches_firms_funds"
   ]
  },
  {
   "cell_type": "code",
   "execution_count": 25,
   "metadata": {
    "collapsed": false
   },
   "outputs": [],
   "source": [
    "cols = ['cik_no_fund', 'crd_no_firm', 'crd_no_fund']\n",
    "\n",
    "match_df = match_df[cols]"
   ]
  },
  {
   "cell_type": "code",
   "execution_count": 43,
   "metadata": {
    "collapsed": false
   },
   "outputs": [],
   "source": [
    "from fuzzywuzzy import fuzz\n",
    "\n",
    "def get_match_df(data_a, data_b):\n",
    "\n",
    "    left_values = list(set(data_a.related_partners))\n",
    "    right_values = data_b.direct_owners.to_list()\n",
    "\n",
    "    matches = []\n",
    "\n",
    "    for partner in left_values:\n",
    "        best_owner, best_raio = None, 0\n",
    "        for owner in right_values:\n",
    "            ratio = fuzz.SequenceMatcher(None, partner, owner).ratio()\n",
    "            if ratio > best_raio:\n",
    "                best_owner = owner\n",
    "                best_raio = ratio\n",
    "        matches.append((partner, best_owner, best_raio))\n",
    "\n",
    "    return pd.DataFrame(matches, columns=['related_partner', 'direct_owners', 'owners_ratio'])"
   ]
  },
  {
   "cell_type": "code",
   "execution_count": 58,
   "metadata": {
    "collapsed": false
   },
   "outputs": [
    {
     "name": "stderr",
     "output_type": "stream",
     "text": [
      "/Users/tejachava/workspace/mapping/notebooks/mapping/utils/processing.py:117: FutureWarning: The default value of regex will change from True to False in a future version. In addition, single character regular expressions will *not* be treated as literal strings when regex=True.\n",
      "  dataFrame.related_partners = dataFrame.related_partners.str.replace('(', '')\n",
      "/Users/tejachava/workspace/mapping/notebooks/mapping/utils/processing.py:118: FutureWarning: The default value of regex will change from True to False in a future version. In addition, single character regular expressions will *not* be treated as literal strings when regex=True.\n",
      "  dataFrame.related_partners = dataFrame.related_partners.str.replace(')', '')\n",
      "/Users/tejachava/workspace/mapping/notebooks/mapping/utils/processing.py:120: FutureWarning: The default value of regex will change from True to False in a future version. In addition, single character regular expressions will *not* be treated as literal strings when regex=True.\n",
      "  dataFrame.related_partners = dataFrame.related_partners.str.replace('.', '')\n",
      "/Users/tejachava/workspace/mapping/notebooks/mapping/utils/processing.py:149: FutureWarning: The default value of regex will change from True to False in a future version. In addition, single character regular expressions will *not* be treated as literal strings when regex=True.\n",
      "  dataFrame.direct_owners = dataFrame.direct_owners.str.replace('(', '')\n",
      "/Users/tejachava/workspace/mapping/notebooks/mapping/utils/processing.py:150: FutureWarning: The default value of regex will change from True to False in a future version. In addition, single character regular expressions will *not* be treated as literal strings when regex=True.\n",
      "  dataFrame.direct_owners = dataFrame.direct_owners.str.replace(')', '')\n",
      "/Users/tejachava/workspace/mapping/notebooks/mapping/utils/processing.py:152: FutureWarning: The default value of regex will change from True to False in a future version. In addition, single character regular expressions will *not* be treated as literal strings when regex=True.\n",
      "  dataFrame.direct_owners = dataFrame.direct_owners.str.replace('.', '')\n"
     ]
    }
   ],
   "source": [
    "related_partners = pd.read_pickle('../storage/related_partners.pkl')\n",
    "direct_owners = pd.read_pickle('../storage/direct_owners.pkl')\n",
    "\n",
    "related_partners = preprocess(related_partners, related_partners=True)\n",
    "direct_owners = preprocess(direct_owners, direct_owners=True)\n",
    "\n",
    "result_df = []\n",
    "\n",
    "for idx, row in match_df.iterrows():\n",
    "\n",
    "    cik_no_fund, crd_no_firm, crd_no_fund = row.cik_no_fund, row.crd_no_firm, row.crd_no_fund\n",
    "\n",
    "    table_a = related_partners[related_partners.cik_no_related_partners == cik_no_fund]\n",
    "    table_b = direct_owners[direct_owners.crd_no_owners == crd_no_firm] \n",
    "    table_c = direct_owners[direct_owners.crd_no_owners == crd_no_fund]\n",
    "   \n",
    "    match_a = get_match_df(table_a, table_b)\n",
    "    match_b = get_match_df(table_a,table_c)\n",
    "\n",
    "    match = pd.concat([match_a, match_b],axis=1)\n",
    "\n",
    "    match.columns = ['related_partners','direct_owners_firm','owners_firm_ratio','drop','direct_owners_fund','owners_fund_ratio']\n",
    "    match.drop(columns=['drop'],axis=1,inplace=True)\n",
    "    match['cik_no_fund'] = cik_no_fund\n",
    "    match['crd_no_firm'] = crd_no_firm\n",
    "    match['crd_no_fund'] = crd_no_fund\n",
    "\n",
    "    result_df.append(match)"
   ]
  },
  {
   "cell_type": "code",
   "execution_count": 59,
   "metadata": {
    "collapsed": false
   },
   "outputs": [],
   "source": [
    "stack_result = pd.DataFrame()\n",
    "\n",
    "for data in result_df:\n",
    "    if not data.empty:\n",
    "        if not stack_result.empty:\n",
    "            stack_result = pd.concat([stack_result, data], join='inner', ignore_index=True)\n",
    "        else:\n",
    "            stack_result = data"
   ]
  },
  {
   "cell_type": "code",
   "execution_count": 61,
   "metadata": {},
   "outputs": [
    {
     "data": {
      "text/html": [
       "<div>\n",
       "<style scoped>\n",
       "    .dataframe tbody tr th:only-of-type {\n",
       "        vertical-align: middle;\n",
       "    }\n",
       "\n",
       "    .dataframe tbody tr th {\n",
       "        vertical-align: top;\n",
       "    }\n",
       "\n",
       "    .dataframe thead th {\n",
       "        text-align: right;\n",
       "    }\n",
       "</style>\n",
       "<table border=\"1\" class=\"dataframe\">\n",
       "  <thead>\n",
       "    <tr style=\"text-align: right;\">\n",
       "      <th></th>\n",
       "      <th>related_partners</th>\n",
       "      <th>direct_owners_firm</th>\n",
       "      <th>owners_firm_ratio</th>\n",
       "      <th>direct_owners_fund</th>\n",
       "      <th>owners_fund_ratio</th>\n",
       "      <th>cik_no_fund</th>\n",
       "      <th>crd_no_firm</th>\n",
       "      <th>crd_no_fund</th>\n",
       "    </tr>\n",
       "  </thead>\n",
       "  <tbody>\n",
       "    <tr>\n",
       "      <th>0</th>\n",
       "      <td>Michael Pruitt</td>\n",
       "      <td>None</td>\n",
       "      <td>0</td>\n",
       "      <td>Bergeron Michael Robert</td>\n",
       "      <td>0.540541</td>\n",
       "      <td>1106838</td>\n",
       "      <td>135387</td>\n",
       "      <td>134320</td>\n",
       "    </tr>\n",
       "  </tbody>\n",
       "</table>\n",
       "</div>"
      ],
      "text/plain": [
       "  related_partners direct_owners_firm  owners_firm_ratio  \\\n",
       "0   Michael Pruitt               None                  0   \n",
       "\n",
       "        direct_owners_fund  owners_fund_ratio  cik_no_fund  crd_no_firm  \\\n",
       "0  Bergeron Michael Robert           0.540541      1106838       135387   \n",
       "\n",
       "   crd_no_fund  \n",
       "0       134320  "
      ]
     },
     "execution_count": 61,
     "metadata": {},
     "output_type": "execute_result"
    }
   ],
   "source": [
    "result_df[6].head()"
   ]
  },
  {
   "cell_type": "code",
   "execution_count": 65,
   "metadata": {},
   "outputs": [
    {
     "data": {
      "text/html": [
       "<div>\n",
       "<style scoped>\n",
       "    .dataframe tbody tr th:only-of-type {\n",
       "        vertical-align: middle;\n",
       "    }\n",
       "\n",
       "    .dataframe tbody tr th {\n",
       "        vertical-align: top;\n",
       "    }\n",
       "\n",
       "    .dataframe thead th {\n",
       "        text-align: right;\n",
       "    }\n",
       "</style>\n",
       "<table border=\"1\" class=\"dataframe\">\n",
       "  <thead>\n",
       "    <tr style=\"text-align: right;\">\n",
       "      <th></th>\n",
       "      <th>related_partners</th>\n",
       "      <th>direct_owners_firm</th>\n",
       "      <th>owners_firm_ratio</th>\n",
       "      <th>direct_owners_fund</th>\n",
       "      <th>owners_fund_ratio</th>\n",
       "      <th>cik_no_fund</th>\n",
       "      <th>crd_no_firm</th>\n",
       "      <th>crd_no_fund</th>\n",
       "    </tr>\n",
       "  </thead>\n",
       "  <tbody>\n",
       "    <tr>\n",
       "      <th>11</th>\n",
       "      <td>Susan Etzel</td>\n",
       "      <td>Sherman Mark Douglas</td>\n",
       "      <td>0.322581</td>\n",
       "      <td>Rosenthal Robert Daniel</td>\n",
       "      <td>0.294118</td>\n",
       "      <td>1136174</td>\n",
       "      <td>108401</td>\n",
       "      <td>167212</td>\n",
       "    </tr>\n",
       "    <tr>\n",
       "      <th>12</th>\n",
       "      <td>Steven Kriegsman</td>\n",
       "      <td>Sherman Mark Douglas</td>\n",
       "      <td>0.333333</td>\n",
       "      <td>Juchem Stephen Joseph</td>\n",
       "      <td>0.378378</td>\n",
       "      <td>1136174</td>\n",
       "      <td>108401</td>\n",
       "      <td>167212</td>\n",
       "    </tr>\n",
       "    <tr>\n",
       "      <th>13</th>\n",
       "      <td>Terren Peizer</td>\n",
       "      <td>Sherman Mark Douglas</td>\n",
       "      <td>0.303030</td>\n",
       "      <td>Kudu Investment Management</td>\n",
       "      <td>0.307692</td>\n",
       "      <td>1136174</td>\n",
       "      <td>108401</td>\n",
       "      <td>167212</td>\n",
       "    </tr>\n",
       "    <tr>\n",
       "      <th>14</th>\n",
       "      <td>Richard Berman</td>\n",
       "      <td>Sherman Mark Douglas</td>\n",
       "      <td>0.352941</td>\n",
       "      <td>Rosenthal Robert Daniel</td>\n",
       "      <td>0.432432</td>\n",
       "      <td>1136174</td>\n",
       "      <td>108401</td>\n",
       "      <td>167212</td>\n",
       "    </tr>\n",
       "    <tr>\n",
       "      <th>15</th>\n",
       "      <td>Marvin Ingelman</td>\n",
       "      <td>Sherman Mark Douglas</td>\n",
       "      <td>0.400000</td>\n",
       "      <td>Siegel Bruce Alan</td>\n",
       "      <td>0.375000</td>\n",
       "      <td>1136174</td>\n",
       "      <td>108401</td>\n",
       "      <td>167212</td>\n",
       "    </tr>\n",
       "    <tr>\n",
       "      <th>...</th>\n",
       "      <td>...</td>\n",
       "      <td>...</td>\n",
       "      <td>...</td>\n",
       "      <td>...</td>\n",
       "      <td>...</td>\n",
       "      <td>...</td>\n",
       "      <td>...</td>\n",
       "      <td>...</td>\n",
       "    </tr>\n",
       "    <tr>\n",
       "      <th>4073</th>\n",
       "      <td>Constantine Patamianos</td>\n",
       "      <td>Sherman Mark Douglas</td>\n",
       "      <td>0.285714</td>\n",
       "      <td>Kudu Investment Us</td>\n",
       "      <td>0.350000</td>\n",
       "      <td>1362190</td>\n",
       "      <td>108401</td>\n",
       "      <td>167212</td>\n",
       "    </tr>\n",
       "    <tr>\n",
       "      <th>4074</th>\n",
       "      <td>Edward Odonnell</td>\n",
       "      <td>Sherman Mark Douglas</td>\n",
       "      <td>0.285714</td>\n",
       "      <td>Rosenthal Robert Daniel</td>\n",
       "      <td>0.315789</td>\n",
       "      <td>1362190</td>\n",
       "      <td>108401</td>\n",
       "      <td>167212</td>\n",
       "    </tr>\n",
       "    <tr>\n",
       "      <th>4083</th>\n",
       "      <td>David Alexander</td>\n",
       "      <td>Walters Charles</td>\n",
       "      <td>0.266667</td>\n",
       "      <td>Hill Glenn Joseph</td>\n",
       "      <td>0.375000</td>\n",
       "      <td>1139053</td>\n",
       "      <td>169483</td>\n",
       "      <td>110186</td>\n",
       "    </tr>\n",
       "    <tr>\n",
       "      <th>4084</th>\n",
       "      <td>N A Pa Capital Advisors</td>\n",
       "      <td>Walters Charles</td>\n",
       "      <td>0.315789</td>\n",
       "      <td>Pantaleo Laura Ann</td>\n",
       "      <td>0.341463</td>\n",
       "      <td>1139053</td>\n",
       "      <td>169483</td>\n",
       "      <td>110186</td>\n",
       "    </tr>\n",
       "    <tr>\n",
       "      <th>4085</th>\n",
       "      <td>Anthony Peyser</td>\n",
       "      <td>Walters Charles</td>\n",
       "      <td>0.206897</td>\n",
       "      <td>Choi Michael</td>\n",
       "      <td>0.307692</td>\n",
       "      <td>1139053</td>\n",
       "      <td>169483</td>\n",
       "      <td>110186</td>\n",
       "    </tr>\n",
       "  </tbody>\n",
       "</table>\n",
       "<p>3468 rows × 8 columns</p>\n",
       "</div>"
      ],
      "text/plain": [
       "             related_partners    direct_owners_firm  owners_firm_ratio  \\\n",
       "11                Susan Etzel  Sherman Mark Douglas           0.322581   \n",
       "12           Steven Kriegsman  Sherman Mark Douglas           0.333333   \n",
       "13              Terren Peizer  Sherman Mark Douglas           0.303030   \n",
       "14             Richard Berman  Sherman Mark Douglas           0.352941   \n",
       "15            Marvin Ingelman  Sherman Mark Douglas           0.400000   \n",
       "...                       ...                   ...                ...   \n",
       "4073   Constantine Patamianos  Sherman Mark Douglas           0.285714   \n",
       "4074          Edward Odonnell  Sherman Mark Douglas           0.285714   \n",
       "4083          David Alexander       Walters Charles           0.266667   \n",
       "4084  N A Pa Capital Advisors       Walters Charles           0.315789   \n",
       "4085           Anthony Peyser       Walters Charles           0.206897   \n",
       "\n",
       "              direct_owners_fund  owners_fund_ratio  cik_no_fund  crd_no_firm  \\\n",
       "11       Rosenthal Robert Daniel           0.294118      1136174       108401   \n",
       "12         Juchem Stephen Joseph           0.378378      1136174       108401   \n",
       "13    Kudu Investment Management           0.307692      1136174       108401   \n",
       "14       Rosenthal Robert Daniel           0.432432      1136174       108401   \n",
       "15             Siegel Bruce Alan           0.375000      1136174       108401   \n",
       "...                          ...                ...          ...          ...   \n",
       "4073          Kudu Investment Us           0.350000      1362190       108401   \n",
       "4074     Rosenthal Robert Daniel           0.315789      1362190       108401   \n",
       "4083           Hill Glenn Joseph           0.375000      1139053       169483   \n",
       "4084          Pantaleo Laura Ann           0.341463      1139053       169483   \n",
       "4085                Choi Michael           0.307692      1139053       169483   \n",
       "\n",
       "      crd_no_fund  \n",
       "11         167212  \n",
       "12         167212  \n",
       "13         167212  \n",
       "14         167212  \n",
       "15         167212  \n",
       "...           ...  \n",
       "4073       167212  \n",
       "4074       167212  \n",
       "4083       110186  \n",
       "4084       110186  \n",
       "4085       110186  \n",
       "\n",
       "[3468 rows x 8 columns]"
      ]
     },
     "execution_count": 65,
     "metadata": {},
     "output_type": "execute_result"
    }
   ],
   "source": [
    "stack_result[stack_result.direct_owners_firm.notnull()]"
   ]
  },
  {
   "cell_type": "code",
   "execution_count": 66,
   "metadata": {
    "collapsed": false
   },
   "outputs": [],
   "source": [
    "match_firms_funds_owners = pd.merge(matches_firms_funds, stack_result, how='inner')"
   ]
  },
  {
   "cell_type": "code",
   "execution_count": 72,
   "metadata": {},
   "outputs": [],
   "source": [
    "match_firms_funds_owners = match_firms_funds_owners.round(\n",
    "    {\"firm_confidence\": 3, \"fund_confidence\": 3, \"owners_firm_ratio\": 3, 'owners_fund_ratio':3})\n"
   ]
  },
  {
   "cell_type": "code",
   "execution_count": 68,
   "metadata": {},
   "outputs": [
    {
     "data": {
      "text/plain": [
       "Index(['form_d_fund_id', 'cik_no_fund', 'fund', 'form_adv_firm_id',\n",
       "       'crd_no_firm', 'matched_firm', 'firm_confidence', 'form_adv_fund_id',\n",
       "       'crd_no_fund', 'matched_fund', 'fund_confidence', 'related_partners',\n",
       "       'direct_owners_firm', 'owners_firm_ratio', 'direct_owners_fund',\n",
       "       'owners_fund_ratio'],\n",
       "      dtype='object')"
      ]
     },
     "execution_count": 68,
     "metadata": {},
     "output_type": "execute_result"
    }
   ],
   "source": [
    "match_firms_funds_owners.columns\n"
   ]
  },
  {
   "cell_type": "code",
   "execution_count": null,
   "metadata": {},
   "outputs": [],
   "source": []
  },
  {
   "cell_type": "markdown",
   "metadata": {},
   "source": []
  },
  {
   "cell_type": "code",
   "execution_count": 73,
   "metadata": {},
   "outputs": [],
   "source": [
    "match_firms_funds_owners = match_firms_funds_owners[['form_d_fund_id', 'cik_no_fund', 'fund', 'form_adv_fund_id', 'crd_no_fund', 'matched_fund', 'fund_confidence', 'form_adv_firm_id', 'crd_no_firm', 'matched_firm',\n",
    "'firm_confidence', 'related_partners', 'direct_owners_firm', 'owners_firm_ratio', 'direct_owners_fund','owners_fund_ratio']]\n"
   ]
  },
  {
   "cell_type": "code",
   "execution_count": 75,
   "metadata": {},
   "outputs": [],
   "source": [
    "match_firms_funds_owners = match_firms_funds_owners.sort_values(by='fund_confidence', ignore_index=True)\n"
   ]
  },
  {
   "cell_type": "code",
   "execution_count": 76,
   "metadata": {
    "collapsed": false
   },
   "outputs": [],
   "source": [
    "match_firms_funds_owners.to_csv('../output/matches_firms_funds_owners.csv')"
   ]
  }
 ],
 "metadata": {
  "kernelspec": {
   "display_name": "Python 3",
   "language": "python",
   "name": "python3"
  },
  "language_info": {
   "codemirror_mode": {
    "name": "ipython",
    "version": 3
   },
   "file_extension": ".py",
   "mimetype": "text/x-python",
   "name": "python",
   "nbconvert_exporter": "python",
   "pygments_lexer": "ipython3",
   "version": "3.10.7 (v3.10.7:6cc6b13308, Sep  5 2022, 14:02:52) [Clang 13.0.0 (clang-1300.0.29.30)]"
  },
  "vscode": {
   "interpreter": {
    "hash": "aee8b7b246df8f9039afb4144a1f6fd8d2ca17a180786b69acc140d282b71a49"
   }
  }
 },
 "nbformat": 4,
 "nbformat_minor": 0
}
