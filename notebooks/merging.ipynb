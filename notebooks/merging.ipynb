{
 "cells": [
  {
   "cell_type": "markdown",
   "source": [
    "### Import Libraries"
   ],
   "metadata": {
    "collapsed": false
   }
  },
  {
   "cell_type": "code",
   "execution_count": 1,
   "outputs": [],
   "source": [
    "import pandas as pd\n",
    "\n",
    "from utils.processing import preprocess\n",
    "from utils.matching import get_fuzzy_matches_df"
   ],
   "metadata": {
    "collapsed": false
   }
  },
  {
   "cell_type": "code",
   "execution_count": 2,
   "outputs": [],
   "source": [
    "matches_funds = pd.read_csv('../data/matches_funds.csv')"
   ],
   "metadata": {
    "collapsed": false
   }
  },
  {
   "cell_type": "code",
   "execution_count": 3,
   "outputs": [],
   "source": [
    "# Formatting Data Frame\n",
    "filter_columns = [\n",
    "    'form_d_fund_id', 'cik_no_fund', 'fund',\n",
    "    'form_adv_fund_id', 'crd_no_fund', 'matched_fund', 'fund_confidence',\n",
    "]\n",
    "matches_funds = matches_funds[filter_columns]"
   ],
   "metadata": {
    "collapsed": false
   }
  },
  {
   "cell_type": "markdown",
   "source": [
    "### Merge with corresponding <direct_owners>"
   ],
   "metadata": {
    "collapsed": false
   }
  },
  {
   "cell_type": "code",
   "execution_count": 4,
   "outputs": [],
   "source": [
    "related_partners = pd.read_pickle('../storage/related_partners.pkl')\n",
    "direct_owners = pd.read_pickle('../storage/direct_owners.pkl')"
   ],
   "metadata": {
    "collapsed": false
   }
  },
  {
   "cell_type": "code",
   "execution_count": 5,
   "outputs": [],
   "source": [
    "related_partners = preprocess(related_partners, related_partners=True)\n",
    "direct_owners = preprocess(direct_owners, direct_owners=True)"
   ],
   "metadata": {
    "collapsed": false
   }
  },
  {
   "cell_type": "code",
   "execution_count": 6,
   "outputs": [],
   "source": [
    "matches_owners = get_fuzzy_matches_df(matches_funds, related_partners, direct_owners)"
   ],
   "metadata": {
    "collapsed": false
   }
  },
  {
   "cell_type": "code",
   "execution_count": 14,
   "outputs": [
    {
     "data": {
      "text/plain": "(296, 5)"
     },
     "execution_count": 14,
     "metadata": {},
     "output_type": "execute_result"
    }
   ],
   "source": [
    "matches_owners.shape"
   ],
   "metadata": {
    "collapsed": false
   }
  },
  {
   "cell_type": "code",
   "execution_count": 7,
   "outputs": [],
   "source": [
    "match_funds_owners = pd.merge(matches_funds, matches_owners, how='inner')"
   ],
   "metadata": {
    "collapsed": false
   }
  },
  {
   "cell_type": "code",
   "execution_count": 9,
   "outputs": [],
   "source": [
    "filter_columns = [\n",
    "    'form_d_fund_id', 'cik_no_fund', 'fund',\n",
    "    'form_adv_fund_id', 'crd_no_fund', 'matched_fund', 'fund_confidence',\n",
    "    'related_partners',\n",
    "    'direct_owners_fund','owners_fund_ratio'\n",
    "]\n",
    "match_funds_owners = match_funds_owners[filter_columns]"
   ],
   "metadata": {
    "collapsed": false
   }
  },
  {
   "cell_type": "code",
   "execution_count": 10,
   "outputs": [],
   "source": [
    "# Sort by fund_confidence\n",
    "match_funds_owners = match_funds_owners.sort_values(by='fund_confidence', ignore_index=True)"
   ],
   "metadata": {
    "collapsed": false
   }
  },
  {
   "cell_type": "code",
   "execution_count": 11,
   "outputs": [],
   "source": [
    "# Round off confidence & ratio\n",
    "match_funds_owners = match_funds_owners.round({'fund_confidence': 3, 'firm_confidence': 3, 'owners_firm_ratio': 3, 'owners_fund_ratio': 3})"
   ],
   "metadata": {
    "collapsed": false
   }
  },
  {
   "cell_type": "code",
   "execution_count": 12,
   "outputs": [],
   "source": [
    "match_funds_owners.to_csv('../output/matches_funds_owners.csv')"
   ],
   "metadata": {
    "collapsed": false
   }
  }
 ],
 "metadata": {
  "kernelspec": {
   "display_name": "Python 3",
   "language": "python",
   "name": "python3"
  },
  "language_info": {
   "codemirror_mode": {
    "name": "ipython",
    "version": 2
   },
   "file_extension": ".py",
   "mimetype": "text/x-python",
   "name": "python",
   "nbconvert_exporter": "python",
   "pygments_lexer": "ipython2",
   "version": "2.7.6"
  }
 },
 "nbformat": 4,
 "nbformat_minor": 0
}
