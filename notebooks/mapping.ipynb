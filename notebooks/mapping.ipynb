{
 "cells": [
  {
   "cell_type": "markdown",
   "source": [
    "### Import Libraries"
   ],
   "metadata": {
    "collapsed": false
   }
  },
  {
   "cell_type": "code",
   "execution_count": 1,
   "outputs": [],
   "source": [
    "import pandas as pd\n",
    "\n",
    "from utils.matching import get_matches_df, get_merged_matches\n",
    "from utils.processing import preprocess"
   ],
   "metadata": {
    "collapsed": false
   }
  },
  {
   "cell_type": "markdown",
   "source": [
    "### Match \"Form_D_Funds\" to \"Form_Adv_Funds\""
   ],
   "metadata": {
    "collapsed": false
   }
  },
  {
   "cell_type": "code",
   "execution_count": 2,
   "outputs": [],
   "source": [
    "formd_funds = pd.read_pickle('../storage/formd_funds.pkl')\n",
    "formadv_funds = pd.read_pickle('../storage/formadv_funds.pkl')"
   ],
   "metadata": {
    "collapsed": false
   }
  },
  {
   "cell_type": "code",
   "execution_count": 3,
   "outputs": [],
   "source": [
    "formd_funds = preprocess(formd_funds, formd_funds=True)\n",
    "formadv_funds = preprocess(formadv_funds, formadv_funds=True)"
   ],
   "metadata": {
    "collapsed": false
   }
  },
  {
   "cell_type": "code",
   "execution_count": 4,
   "outputs": [],
   "source": [
    "matches_funds = get_matches_df(formd_funds, formadv_funds, column_a='form_d_funds', column_b='form_adv_funds', map_from='fund', map_to='fund')"
   ],
   "metadata": {
    "collapsed": false
   }
  },
  {
   "cell_type": "code",
   "execution_count": 5,
   "outputs": [],
   "source": [
    "matches_funds = get_merged_matches(matches_funds, formd_funds, formadv_funds, column_a='fund', column_b='matched_fund', map_a='form_d_funds', map_b='form_adv_funds')"
   ],
   "metadata": {
    "collapsed": false
   }
  },
  {
   "cell_type": "code",
   "execution_count": 6,
   "outputs": [],
   "source": [
    "matches_funds.to_csv('../data/matches_funds.csv')"
   ],
   "metadata": {
    "collapsed": false
   }
  }
 ],
 "metadata": {
  "kernelspec": {
   "display_name": "Python 3",
   "language": "python",
   "name": "python3"
  },
  "language_info": {
   "codemirror_mode": {
    "name": "ipython",
    "version": 2
   },
   "file_extension": ".py",
   "mimetype": "text/x-python",
   "name": "python",
   "nbconvert_exporter": "python",
   "pygments_lexer": "ipython2",
   "version": "2.7.6"
  }
 },
 "nbformat": 4,
 "nbformat_minor": 0
}
