{
 "cells": [
  {
   "cell_type": "code",
   "execution_count": 1,
   "metadata": {
    "collapsed": true
   },
   "outputs": [],
   "source": [
    "import pandas as pd"
   ]
  },
  {
   "cell_type": "markdown",
   "source": [
    "# Section - <formd_funds, formadv_funds>"
   ],
   "metadata": {
    "collapsed": false
   }
  },
  {
   "cell_type": "code",
   "execution_count": 12,
   "outputs": [],
   "source": [
    "formadv_funds = pd.read_pickle('../storage/formadv_funds.pkl')"
   ],
   "metadata": {
    "collapsed": false
   }
  },
  {
   "cell_type": "code",
   "execution_count": 13,
   "outputs": [],
   "source": [
    "formadv_before = formadv_funds.form_adv_funds.copy()"
   ],
   "metadata": {
    "collapsed": false
   }
  },
  {
   "cell_type": "code",
   "execution_count": 14,
   "outputs": [],
   "source": [
    "def transform_formadv_funds(value):\n",
    "    value = value.upper()\n",
    "    remove_terms = {\n",
    "        'LLC', 'LP', 'LTD', 'INC', 'CO', 'CORP', 'LLLP', 'LLLC'\n",
    "    }\n",
    "    newVal = []\n",
    "    for name in value.split():\n",
    "        if name in remove_terms:\n",
    "            continue\n",
    "        alphaName = filter(lambda x: not x.isdigit(), name)\n",
    "        alphaName = ''.join(alphaName).strip()\n",
    "        newVal.append(alphaName)\n",
    "    return ' '.join(newVal)"
   ],
   "metadata": {
    "collapsed": false
   }
  },
  {
   "cell_type": "code",
   "execution_count": 15,
   "outputs": [],
   "source": [
    "# Transform form_adv_funds\n",
    "formadv_funds.form_adv_funds = formadv_funds.form_adv_funds.str.replace('(', '')\n",
    "formadv_funds.form_adv_funds = formadv_funds.form_adv_funds.str.replace(')', '')\n",
    "formadv_funds.form_adv_funds = formadv_funds.form_adv_funds.str.replace(',', '')\n",
    "formadv_funds.form_adv_funds = formadv_funds.form_adv_funds.str.replace('.', '')\n",
    "formadv_funds.form_adv_funds = formadv_funds.form_adv_funds.str.replace('@', '')\n",
    "formadv_funds.form_adv_funds = formadv_funds.form_adv_funds.str.replace('/', ' ')\n",
    "formadv_funds.form_adv_funds = formadv_funds.form_adv_funds.str.replace('-', ' ')\n",
    "formadv_funds.form_adv_funds = formadv_funds.form_adv_funds.apply(transform_formadv_funds)\n",
    "formadv_funds.form_adv_funds = formadv_funds.form_adv_funds.str.title()"
   ],
   "metadata": {
    "collapsed": false
   }
  },
  {
   "cell_type": "code",
   "execution_count": 16,
   "outputs": [],
   "source": [
    "formadv_after = formadv_funds.form_adv_funds.copy()"
   ],
   "metadata": {
    "collapsed": false
   }
  },
  {
   "cell_type": "markdown",
   "source": [
    "#### View Results"
   ],
   "metadata": {
    "collapsed": false
   }
  },
  {
   "cell_type": "code",
   "execution_count": 17,
   "outputs": [],
   "source": [
    "# formadv_before"
   ],
   "metadata": {
    "collapsed": false
   }
  },
  {
   "cell_type": "code",
   "execution_count": 18,
   "outputs": [],
   "source": [
    "# formadv_after"
   ],
   "metadata": {
    "collapsed": false
   }
  },
  {
   "cell_type": "markdown",
   "source": [
    "# Section - <related_partners, direct_owners>"
   ],
   "metadata": {
    "collapsed": false
   }
  },
  {
   "cell_type": "code",
   "execution_count": 19,
   "outputs": [],
   "source": [
    "related_partners = pd.read_pickle('../storage/related_partners.pkl')\n",
    "direct_owners = pd.read_pickle('../storage/direct_owners.pkl')"
   ],
   "metadata": {
    "collapsed": false
   }
  },
  {
   "cell_type": "code",
   "execution_count": 20,
   "outputs": [],
   "source": [
    "related_partners_before = related_partners.related_partners.copy()\n",
    "direct_owners_before = direct_owners.direct_owners.copy()"
   ],
   "metadata": {
    "collapsed": false
   }
  },
  {
   "cell_type": "code",
   "execution_count": 21,
   "outputs": [],
   "source": [
    "def transform_related_partners(value):\n",
    "    value = value.upper()\n",
    "    remove_terms = {\n",
    "        'LLC', 'LTD', 'INC', 'NA', 'NONE'\n",
    "    }\n",
    "    newVal, dupCheck = list(), set()\n",
    "    for name in value.split():\n",
    "        if name in remove_terms:\n",
    "            continue\n",
    "        alphaName = filter(lambda x: not x.isdigit(), name)\n",
    "        alphaName = ''.join(alphaName).strip()\n",
    "        if alphaName not in dupCheck:\n",
    "            newVal.append(alphaName)\n",
    "            dupCheck.add(alphaName)\n",
    "\n",
    "    return ' '.join(newVal)"
   ],
   "metadata": {
    "collapsed": false
   }
  },
  {
   "cell_type": "code",
   "execution_count": 22,
   "outputs": [],
   "source": [
    "# Transform related_partners\n",
    "related_partners.related_partners = related_partners.related_partners.str.replace('(', '')\n",
    "related_partners.related_partners = related_partners.related_partners.str.replace(')', '')\n",
    "related_partners.related_partners = related_partners.related_partners.str.replace(',', '')\n",
    "related_partners.related_partners = related_partners.related_partners.str.replace('.', '')\n",
    "related_partners.related_partners = related_partners.related_partners.str.replace('@', '')\n",
    "related_partners.related_partners = related_partners.related_partners.str.replace('/', ' ')\n",
    "related_partners.related_partners = related_partners.related_partners.str.replace('-', ' ')\n",
    "related_partners.related_partners = related_partners.related_partners.apply(transform_related_partners)\n",
    "related_partners.related_partners = related_partners.related_partners.str.title()"
   ],
   "metadata": {
    "collapsed": false
   }
  },
  {
   "cell_type": "code",
   "execution_count": 23,
   "outputs": [],
   "source": [
    "related_partners_after = related_partners.related_partners.copy()"
   ],
   "metadata": {
    "collapsed": false
   }
  },
  {
   "cell_type": "code",
   "execution_count": 24,
   "outputs": [],
   "source": [
    "def transform_direct_owners(value):\n",
    "    value = value.upper()\n",
    "    remove_terms = {\n",
    "        'LLC', 'LTD', 'INC', 'NA', 'NONE'\n",
    "    }\n",
    "    newVal, dupCheck = list(), set()\n",
    "    for name in value.split():\n",
    "        if name in remove_terms:\n",
    "            continue\n",
    "        alphaName = filter(lambda x: not x.isdigit(), name)\n",
    "        alphaName = ''.join(alphaName).strip()\n",
    "        if alphaName not in dupCheck:\n",
    "            newVal.append(alphaName)\n",
    "            dupCheck.add(alphaName)\n",
    "\n",
    "    return ' '.join(newVal)"
   ],
   "metadata": {
    "collapsed": false
   }
  },
  {
   "cell_type": "code",
   "execution_count": 25,
   "outputs": [],
   "source": [
    "# Transform direct_owners\n",
    "direct_owners.direct_owners = direct_owners.direct_owners.str.replace('(', '')\n",
    "direct_owners.direct_owners = direct_owners.direct_owners.str.replace(')', '')\n",
    "direct_owners.direct_owners = direct_owners.direct_owners.str.replace(',', '')\n",
    "direct_owners.direct_owners = direct_owners.direct_owners.str.replace('.', '')\n",
    "direct_owners.direct_owners = direct_owners.direct_owners.str.replace('@', '')\n",
    "direct_owners.direct_owners = direct_owners.direct_owners.str.replace('/', ' ')\n",
    "direct_owners.direct_owners = direct_owners.direct_owners.str.replace('-', ' ')\n",
    "direct_owners.direct_owners = direct_owners.direct_owners.apply(transform_direct_owners)\n",
    "direct_owners.direct_owners = direct_owners.direct_owners.str.title()"
   ],
   "metadata": {
    "collapsed": false
   }
  },
  {
   "cell_type": "code",
   "execution_count": 26,
   "outputs": [],
   "source": [
    "direct_owners_after = direct_owners.direct_owners.copy()"
   ],
   "metadata": {
    "collapsed": false
   }
  },
  {
   "cell_type": "markdown",
   "source": [
    "#### View Results"
   ],
   "metadata": {
    "collapsed": false
   }
  },
  {
   "cell_type": "code",
   "execution_count": 27,
   "outputs": [],
   "source": [
    "# related_partners_before\n",
    "# direct_owners_before"
   ],
   "metadata": {
    "collapsed": false
   }
  },
  {
   "cell_type": "code",
   "execution_count": 28,
   "outputs": [],
   "source": [
    "# related_partners_after\n",
    "# direct_owners_after"
   ],
   "metadata": {
    "collapsed": false
   }
  }
 ],
 "metadata": {
  "kernelspec": {
   "display_name": "Python 3",
   "language": "python",
   "name": "python3"
  },
  "language_info": {
   "codemirror_mode": {
    "name": "ipython",
    "version": 2
   },
   "file_extension": ".py",
   "mimetype": "text/x-python",
   "name": "python",
   "nbconvert_exporter": "python",
   "pygments_lexer": "ipython2",
   "version": "2.7.6"
  }
 },
 "nbformat": 4,
 "nbformat_minor": 0
}
