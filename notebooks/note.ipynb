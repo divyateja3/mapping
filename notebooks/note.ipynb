{
 "cells": [
  {
   "cell_type": "markdown",
   "source": [
    "Section Discard"
   ],
   "metadata": {
    "collapsed": false
   }
  },
  {
   "cell_type": "code",
   "execution_count": null,
   "outputs": [],
   "source": [
    "import pandas as pd"
   ],
   "metadata": {
    "collapsed": false
   }
  },
  {
   "cell_type": "code",
   "execution_count": 4,
   "outputs": [],
   "source": [
    "formd_funds = pd.read_csv('../cache/formd_funds.csv')\n",
    "formd_funds.to_pickle('../storage/formd_funds.pkl')"
   ],
   "metadata": {
    "collapsed": false
   }
  },
  {
   "cell_type": "code",
   "execution_count": 5,
   "outputs": [],
   "source": [
    "formadv_firms = pd.read_csv('../cache/formadv_firms.csv')\n",
    "formadv_firms.to_pickle('../storage/formadv_firms.pkl')"
   ],
   "metadata": {
    "collapsed": false
   }
  },
  {
   "cell_type": "code",
   "execution_count": 9,
   "outputs": [],
   "source": [
    "formadv_funds = pd.read_csv('../cache/formadv_funds.csv')\n",
    "formadv_funds.to_pickle('../storage/formadv_funds.pkl')"
   ],
   "metadata": {
    "collapsed": false
   }
  },
  {
   "cell_type": "code",
   "execution_count": 10,
   "outputs": [],
   "source": [
    "related_partners = pd.read_csv('../cache/related_partners.csv')\n",
    "related_partners.to_pickle('../storage/related_partners.pkl')"
   ],
   "metadata": {
    "collapsed": false
   }
  },
  {
   "cell_type": "code",
   "execution_count": 11,
   "outputs": [],
   "source": [
    "direct_owners = pd.read_csv('../cache/direct_owners.csv')\n",
    "direct_owners.to_pickle('../storage/direct_owners.pkl')"
   ],
   "metadata": {
    "collapsed": false
   }
  },
  {
   "cell_type": "markdown",
   "source": [
    "Section Discard"
   ],
   "metadata": {
    "collapsed": false
   }
  },
  {
   "cell_type": "code",
   "execution_count": 2,
   "outputs": [
    {
     "name": "stdout",
     "output_type": "stream",
     "text": [
      "Connected to server : SUCCESS\n"
     ]
    }
   ],
   "source": [
    "%run ./storing.ipynb\n",
    "%run ./mapping.ipynb\n",
    "%run ./merging.ipynb"
   ],
   "metadata": {
    "collapsed": false
   }
  }
 ],
 "metadata": {
  "kernelspec": {
   "display_name": "Python 3",
   "language": "python",
   "name": "python3"
  },
  "language_info": {
   "codemirror_mode": {
    "name": "ipython",
    "version": 2
   },
   "file_extension": ".py",
   "mimetype": "text/x-python",
   "name": "python",
   "nbconvert_exporter": "python",
   "pygments_lexer": "ipython2",
   "version": "2.7.6"
  }
 },
 "nbformat": 4,
 "nbformat_minor": 0
}
